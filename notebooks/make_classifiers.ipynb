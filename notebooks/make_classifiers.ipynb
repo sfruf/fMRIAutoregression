{
 "metadata": {
  "language_info": {
   "codemirror_mode": {
    "name": "ipython",
    "version": 3
   },
   "file_extension": ".py",
   "mimetype": "text/x-python",
   "name": "python",
   "nbconvert_exporter": "python",
   "pygments_lexer": "ipython3",
   "version": "3.8.8"
  },
  "orig_nbformat": 2,
  "kernelspec": {
   "name": "python388jvsc74a57bd04cd7ab41f5fca4b9b44701077e38c5ffd31fe66a6cab21e0214b68d958d0e462",
   "display_name": "Python 3.8.8 64-bit"
  }
 },
 "nbformat": 4,
 "nbformat_minor": 2,
 "cells": [
  {
   "source": [
    "# Classifier Selection \n",
    "\n",
    "Comparing multiple dimensionality reduction techniques on the full dataset, it seems that it might be possible to find a linear classifier that seperates these classes.  I'm going to give two basic classifiers a shot on both the full data and the DMN subset. However, since I have only $200$ samples I'm going to need to do some unsupervised dimensionality reduction on the full set of autocorrelation values. "
   ],
   "cell_type": "markdown",
   "metadata": {}
  },
  {
   "cell_type": "code",
   "execution_count": 1,
   "metadata": {},
   "outputs": [],
   "source": [
    "\n",
    "import sys\n",
    "sys.path.append('..') #workaround to deal with directory issues in notebooks\n",
    "\n",
    "import numpy as np\n",
    "import pandas as pd \n",
    "\n",
    "from sklearn.discriminant_analysis import LinearDiscriminantAnalysis \n",
    "from sklearn.decomposition import PCA, KernelPCA\n",
    "from sklearn.manifold import TSNE\n",
    "from sklearn.svm import SVC\n",
    "from sklearn.preprocessing import StandardScaler\n",
    "from sklearn.feature_selection import SelectKBest, mutual_info_classif\n",
    "from sklearn.model_selection import train_test_split, GridSearchCV, StratifiedKFold\n",
    "from sklearn.pipeline import Pipeline\n",
    "from sklearn.metrics import classification_report, confusion_matrix\n",
    "from sklearn.ensemble import GradientBoostingClassifier\n",
    "from sklearn.neighbors import (KNeighborsClassifier,\n",
    "                               NeighborhoodComponentsAnalysis)\n",
    "\n",
    "from xgboost import XGBClassifier\n",
    "\n",
    "from src.models import train_model \n",
    "from src.features import load_features\n"
   ]
  },
  {
   "cell_type": "code",
   "execution_count": 2,
   "metadata": {},
   "outputs": [],
   "source": [
    "data_dir='../data/'\n",
    "class_labels,two_class_labels,pos_str,neg_str,clus_co,ar_array,num_regions,num_subjs=load_features(data_dir)"
   ]
  },
  {
   "source": [
    "x=np.concatenate((ar_array,pos_str,neg_str,clus_co),axis=0).transpose() # sets up correctly for scikit learn input later\n",
    "\n",
    "\n",
    "#do model selection based on a test train split\n",
    "x_train, x_test, y_train, y_test = train_test_split(x, two_class_labels, test_size=.20, random_state=42,stratify=two_class_labels)\n",
    "\n",
    "cv=StratifiedKFold(n_splits=10,shuffle=True,random_state=42)\n",
    "scale=StandardScaler()\n",
    "x_train_sc=scale.fit_transform(x_train)\n",
    "x_test_sc=scale.transform(x_test)\n",
    "\n",
    "#pipelines=[pipe_svc,pipe_XGB,pipe_pca_svc,pipe_pca_XGB,pipe_MI_svc,pipe_MI_XGB]\n",
    "\n",
    "pipelines=[\"svc_0.0\",\"xgb_0.0\"] #current model (crude) model versioning\n",
    "\n",
    "subsets={\"Auto\":np.array([*range(num_regions)]),\"Pos\":np.array([*range(num_regions,2*num_regions)]),\"Neg\":np.array([*range(2*num_regions,3*num_regions)]),\"Clus\":np.array([*range(3*num_regions,4*num_regions)]),\"All\":np.array([*range(4*num_regions)]),\"AutoPos\":np.array([*range(2*num_regions)])}\n",
    "\n"
   ],
   "cell_type": "code",
   "metadata": {},
   "execution_count": 9,
   "outputs": []
  },
  {
   "cell_type": "code",
   "execution_count": 10,
   "metadata": {},
   "outputs": [],
   "source": [
    "fit_models,score,estimator=train_model.train_multi_subset_pipeline(x_train_sc,y_train,cv,subsets,pipelines,save_flag=True)"
   ]
  },
  {
   "cell_type": "code",
   "execution_count": 11,
   "metadata": {},
   "outputs": [],
   "source": [
    "performance=train_model.score_on_test(x_test_sc,y_test,fit_models,subsets)"
   ]
  },
  {
   "cell_type": "code",
   "execution_count": 12,
   "metadata": {},
   "outputs": [
    {
     "output_type": "stream",
     "name": "stdout",
     "text": [
      "           Pipeline     Score  Variance\n0      Auto_svc_0.0  0.539886  0.003532\n1      Auto_xgb_0.0  0.445869  0.003032\n2       Pos_svc_0.0  0.616809  0.005355\n3       Pos_xgb_0.0  0.559829  0.004868\n4       Neg_svc_0.0  0.467236  0.005936\n5       Neg_xgb_0.0  0.599715  0.006677\n6      Clus_svc_0.0  0.698006  0.006717\n7      Clus_xgb_0.0  0.465812  0.004547\n8       All_svc_0.0  0.559829  0.004868\n9       All_xgb_0.0  0.502849  0.004093\n10  AutoPos_svc_0.0  0.501425  0.002230\n11  AutoPos_xgb_0.0  0.445869  0.003032\n"
     ]
    }
   ],
   "source": [
    "print(performance)"
   ]
  },
  {
   "cell_type": "code",
   "execution_count": null,
   "metadata": {},
   "outputs": [],
   "source": [
    "\n"
   ]
  }
 ]
}