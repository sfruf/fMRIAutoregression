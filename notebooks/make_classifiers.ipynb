{
 "metadata": {
  "language_info": {
   "codemirror_mode": {
    "name": "ipython",
    "version": 3
   },
   "file_extension": ".py",
   "mimetype": "text/x-python",
   "name": "python",
   "nbconvert_exporter": "python",
   "pygments_lexer": "ipython3",
   "version": "3.8.8-final"
  },
  "orig_nbformat": 2,
  "kernelspec": {
   "name": "python3",
   "display_name": "Python 3.8.8 64-bit",
   "metadata": {
    "interpreter": {
     "hash": "4cd7ab41f5fca4b9b44701077e38c5ffd31fe66a6cab21e0214b68d958d0e462"
    }
   }
  }
 },
 "nbformat": 4,
 "nbformat_minor": 2,
 "cells": [
  {
   "source": [
    "# Classifier Selection \n",
    "\n",
    "Comparing multiple dimensionality reduction techniques on the full dataset, it seems that it might be possible to find a linear classifier that seperates these classes.  I'm going to give two basic classifiers a shot on both the full data and the DMN subset. However, since I have only $200$ samples I'm going to need to do some unsupervised dimensionality reduction on the full set of autocorrelation values. "
   ],
   "cell_type": "markdown",
   "metadata": {}
  },
  {
   "cell_type": "code",
   "execution_count": 1,
   "metadata": {},
   "outputs": [],
   "source": [
    "\n",
    "import sys\n",
    "sys.path.append('..') #workaround to deal with directory issues in notebooks\n",
    "\n",
    "from sklearn.discriminant_analysis import LinearDiscriminantAnalysis \n",
    "from sklearn.decomposition import PCA, KernelPCA\n",
    "from sklearn.manifold import TSNE\n",
    "from sklearn.svm import SVC\n",
    "from sklearn.preprocessing import StandardScaler\n",
    "from sklearn.feature_selection import SelectKBest, mutual_info_classif\n",
    "from sklearn.model_selection import train_test_split, GridSearchCV, StratifiedKFold, RepeatedStratifiedKFold\n",
    "from sklearn.pipeline import Pipeline\n",
    "from sklearn.metrics import classification_report, confusion_matrix\n",
    "from sklearn.ensemble import GradientBoostingClassifier\n",
    "from sklearn.neighbors import (KNeighborsClassifier,\n",
    "                               NeighborhoodComponentsAnalysis)\n",
    "\n",
    "from xgboost import XGBClassifier\n",
    "\n",
    "from src.models import train_model \n",
    "from src.features import load_features\n"
   ]
  },
  {
   "cell_type": "code",
   "execution_count": null,
   "metadata": {},
   "outputs": [],
   "source": [
    "load_features()"
   ]
  },
  {
   "cell_type": "code",
   "execution_count": 3,
   "metadata": {},
   "outputs": [
    {
     "output_type": "stream",
     "name": "stdout",
     "text": [
      "Pipeline(steps=[('MI',\n                 SelectKBest(score_func=<function mutual_info_classif at 0x7f3a84992f70>)),\n                ('XGB',\n                 XGBClassifier(base_score=None, booster=None,\n                               colsample_bylevel=None, colsample_bynode=None,\n                               colsample_bytree=None, eval_metric='logloss',\n                               gamma=None, gpu_id=None, importance_type='gain',\n                               interaction_constraints=None, learning_rate=None,\n                               max_delta_step=None, max_depth=None,\n                               min_child_weight=None, missing=nan,\n                               monotone_constraints=None, n_estimators=100,\n                               n_jobs=None, num_parallel_tree=None,\n                               random_state=None, reg_alpha=None,\n                               reg_lambda=None, scale_pos_weight=None,\n                               subsample=None, tree_method=None,\n                               use_label_encoder=False,\n                               validate_parameters=None, verbosity=None))])\n{'MI__k': [4, 6, 8, 10, 12], 'XGB__objective': ['binary:logistic'], 'XGB__max_depth': [1, 2, 3, 4, 5, 6, 7]}\n"
     ]
    }
   ],
   "source": []
  },
  {
   "source": [
    "X=np.concatenate((ar_array,pos_str,neg_str,clus_co),axis=0).transpose() # sets up correctly for scikit learn input later\n",
    "\n",
    "\n",
    "#do model selection based on a test train split\n",
    "X_train, X_test, y_train, y_test = train_test_split(X, Two_Class_Labels, test_size=.20, random_state=42,stratify=two_class_labels)\n",
    "\n",
    "CV=StratifiedKFold(n_splits=10,random_state=42)\n",
    "scale=StandardScaler()\n",
    "X_train_sc=scale.fit_transform(X_train)\n",
    "X_test_sc=scale.transform(X_test)\n",
    "\n",
    "pipelines=[pipe_svc,pipe_XGB,pipe_pca_svc,pipe_pca_XGB,pipe_MI_svc,pipe_MI_XGB]\n",
    "\n",
    "\n",
    "feat_names=['Auto','Pos','Neg','CC']\n"
   ],
   "cell_type": "code",
   "metadata": {},
   "execution_count": null,
   "outputs": []
  }
 ]
}