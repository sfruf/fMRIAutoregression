{
 "metadata": {
  "language_info": {
   "codemirror_mode": {
    "name": "ipython",
    "version": 3
   },
   "file_extension": ".py",
   "mimetype": "text/x-python",
   "name": "python",
   "nbconvert_exporter": "python",
   "pygments_lexer": "ipython3",
   "version": "3.8.8-final"
  },
  "orig_nbformat": 2,
  "kernelspec": {
   "name": "python3",
   "display_name": "Python 3.8.8 64-bit",
   "metadata": {
    "interpreter": {
     "hash": "4cd7ab41f5fca4b9b44701077e38c5ffd31fe66a6cab21e0214b68d958d0e462"
    }
   }
  }
 },
 "nbformat": 4,
 "nbformat_minor": 2,
 "cells": [
  {
   "source": [
    "# Classifier Selection \n",
    "\n",
    "Comparing multiple dimensionality reduction techniques on the full dataset, it seems that it might be possible to find a linear classifier that seperates these classes.  I'm going to give two basic classifiers a shot on both the full data and the DMN subset. However, since I have only $200$ samples I'm going to need to do some unsupervised dimensionality reduction on the full set of autocorrelation values. "
   ],
   "cell_type": "markdown",
   "metadata": {}
  },
  {
   "cell_type": "code",
   "execution_count": 1,
   "metadata": {},
   "outputs": [],
   "source": [
    "\n",
    "import sys\n",
    "sys.path.append('..') #workaround to deal with directory issues in notebooks\n",
    "\n",
    "import numpy as np\n",
    "from sklearn.discriminant_analysis import LinearDiscriminantAnalysis \n",
    "from sklearn.decomposition import PCA, KernelPCA\n",
    "from sklearn.manifold import TSNE\n",
    "from sklearn.svm import SVC\n",
    "from sklearn.preprocessing import StandardScaler\n",
    "from sklearn.feature_selection import SelectKBest, mutual_info_classif\n",
    "from sklearn.model_selection import train_test_split, GridSearchCV, StratifiedKFold\n",
    "from sklearn.pipeline import Pipeline\n",
    "from sklearn.metrics import classification_report, confusion_matrix\n",
    "from sklearn.ensemble import GradientBoostingClassifier\n",
    "from sklearn.neighbors import (KNeighborsClassifier,\n",
    "                               NeighborhoodComponentsAnalysis)\n",
    "\n",
    "from xgboost import XGBClassifier\n",
    "\n",
    "from src.models import train_model \n",
    "from src.features import load_features\n"
   ]
  },
  {
   "cell_type": "code",
   "execution_count": 2,
   "metadata": {},
   "outputs": [],
   "source": [
    "data_dir='../data/'\n",
    "class_labels,two_class_labels,pos_str,neg_str,clus_co,ar_array,num_regions,num_subjs=load_features(data_dir)"
   ]
  },
  {
   "source": [
    "x=np.concatenate((ar_array,pos_str,neg_str,clus_co),axis=0).transpose() # sets up correctly for scikit learn input later\n",
    "\n",
    "\n",
    "#do model selection based on a test train split\n",
    "x_train, x_test, y_train, y_test = train_test_split(x, two_class_labels, test_size=.20, random_state=42,stratify=two_class_labels)\n",
    "\n",
    "cv=StratifiedKFold(n_splits=10,shuffle=True,random_state=42)\n",
    "scale=StandardScaler()\n",
    "x_train_sc=scale.fit_transform(x_train)\n",
    "x_test_sc=scale.transform(x_test)\n",
    "\n",
    "#pipelines=[pipe_svc,pipe_XGB,pipe_pca_svc,pipe_pca_XGB,pipe_MI_svc,pipe_MI_XGB]\n",
    "pipelines=[\"svc\",\"xgb\"]\n",
    "subsets={\"Auto\":np.array([*range(num_regions,2*num_regions+1)])}\n",
    "\n",
    "feat_names=['Auto','Pos','Neg','CC']\n",
    "\n"
   ],
   "cell_type": "code",
   "metadata": {},
   "execution_count": 12,
   "outputs": []
  },
  {
   "cell_type": "code",
   "execution_count": 13,
   "metadata": {},
   "outputs": [],
   "source": [
    "fit_models,score,estimator=train_model.multi_subset_pipeline(x_train_sc,y_train,cv,subsets,pipelines,save_flag=False)"
   ]
  },
  {
   "cell_type": "code",
   "execution_count": 15,
   "metadata": {},
   "outputs": [
    {
     "output_type": "stream",
     "name": "stdout",
     "text": [
      "[0.5618181818181818, 0.5336363636363636]\n"
     ]
    }
   ],
   "source": [
    "print(score)"
   ]
  },
  {
   "cell_type": "code",
   "execution_count": null,
   "metadata": {},
   "outputs": [],
   "source": [
    "All_feat_test=list()\n",
    "All_feat_test_jack=list()\n",
    "for pipe, param, name in zip(pipelines,params,names):\n",
    "    print(f'Classifier Evaluation for {name}')\n",
    "    search=GridSearchCV(estimator=pipe,param_grid=param,scoring=scoring,refit='Bal_Acc',cv=CV)\n",
    "    search.fit(X_train_sc, y_train)\n",
    "    All_feat_test.append(search.score(X_test_sc, y_test))\n",
    "    All_feat_test_jack.append(jackknife_variance(X_test_sc,y_test,search))\n",
    "    print(f'For all features')\n",
    "    print(f'Best score on training data is {search.best_score_}')\n",
    "    print(f'Using a classifier with the following parameters {search.best_estimator_} \\n')\n",
    "    print(f'On the test set the classifier has an accuracy of {All_feat_test[-1]} with variance {All_feat_test_jack[-1]} and the following report \\n')\n",
    "    print(classification_report(y_test,search.predict(X_test_sc)))\n"
   ]
  }
 ]
}