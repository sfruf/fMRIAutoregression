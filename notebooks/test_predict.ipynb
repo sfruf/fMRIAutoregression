{
 "metadata": {
  "language_info": {
   "codemirror_mode": {
    "name": "ipython",
    "version": 3
   },
   "file_extension": ".py",
   "mimetype": "text/x-python",
   "name": "python",
   "nbconvert_exporter": "python",
   "pygments_lexer": "ipython3",
   "version": "3.8.8"
  },
  "orig_nbformat": 2,
  "kernelspec": {
   "name": "python388jvsc74a57bd04cd7ab41f5fca4b9b44701077e38c5ffd31fe66a6cab21e0214b68d958d0e462",
   "display_name": "Python 3.8.8 64-bit"
  }
 },
 "nbformat": 4,
 "nbformat_minor": 2,
 "cells": [
  {
   "source": [
    "# Test Predict\n",
    "\n",
    "A simple notebook to test that predict_model.py is able to load and predict based on a file name\n"
   ],
   "cell_type": "markdown",
   "metadata": {}
  },
  {
   "cell_type": "code",
   "execution_count": 1,
   "metadata": {},
   "outputs": [],
   "source": [
    "import sys\n",
    "sys.path.append('..') #workaround to deal with directory issues in notebooks\n",
    "\n",
    "import numpy as np\n",
    "import pandas as pd \n",
    "from sklearn.preprocessing import StandardScaler\n",
    "from sklearn.model_selection import train_test_split, StratifiedKFold\n",
    "\n",
    "from src.models import predict_model\n",
    "from src.features import load_features"
   ]
  },
  {
   "cell_type": "code",
   "execution_count": 2,
   "metadata": {},
   "outputs": [],
   "source": [
    "data_dir='../data/'\n",
    "class_labels,two_class_labels,pos_str,neg_str,clus_co,ar_array,num_regions,num_subjs=load_features(data_dir)"
   ]
  },
  {
   "cell_type": "code",
   "execution_count": 3,
   "metadata": {},
   "outputs": [],
   "source": [
    "x=np.concatenate((ar_array,pos_str,neg_str,clus_co),axis=0).transpose() # sets up correctly for scikit learn input later\n",
    "\n",
    "\n",
    "#do model selection based on a test train split\n",
    "x_train, x_test, y_train, y_test = train_test_split(x, two_class_labels, test_size=.20, random_state=42,stratify=two_class_labels)\n",
    "\n",
    "cv=StratifiedKFold(n_splits=10,shuffle=True,random_state=42)\n",
    "scale=StandardScaler()\n",
    "x_train_sc=scale.fit_transform(x_train)\n",
    "x_test_sc=scale.transform(x_test)\n",
    "\n",
    "pipelines=[\"svc_0.1\",\"xgb_0.1\",\"pca_svc_0.1\",\"pca_xgb_0.1\"] #current (crude) model versioning\n",
    "\n",
    "subsets={\"Auto\":np.array([*range(num_regions)]),\"Pos\":np.array([*range(num_regions,2*num_regions)]),\"Neg\":np.array([*range(2*num_regions,3*num_regions)]),\"Clus\":np.array([*range(3*num_regions,4*num_regions)]),\"All\":np.array([*range(4*num_regions)]),\"AutoPos\":np.array([*range(2*num_regions)])}"
   ]
  },
  {
   "cell_type": "code",
   "execution_count": 13,
   "metadata": {},
   "outputs": [],
   "source": [
    "subset_to_test='All'\n",
    "model_to_test='pca_xgb_0.1'\n",
    "prediction=predict_model.predict_model_from_name(f'{subset_to_test}_{model_to_test}',x_test_sc[:,subsets[subset_to_test]])"
   ]
  },
  {
   "cell_type": "code",
   "execution_count": 14,
   "metadata": {},
   "outputs": [
    {
     "output_type": "stream",
     "name": "stdout",
     "text": [
      "[1 1 1 1 1 1 1 1 1 1 1 1 1 1 1 1 1 1 1 1 1 1 1 0 1 1 1 1 1 1 1 0 1 0 1 1 1\n 1 1 1]\n[0 1 0 1 1 1 1 1 1 1 0 1 0 1 1 0 0 1 1 0 1 1 0 1 1 1 0 0 1 1 0 1 0 0 1 1 1\n 1 1 1]\n"
     ]
    }
   ],
   "source": [
    "print(prediction)\n",
    "print(y_test)"
   ]
  },
  {
   "cell_type": "code",
   "execution_count": null,
   "metadata": {},
   "outputs": [],
   "source": []
  }
 ]
}